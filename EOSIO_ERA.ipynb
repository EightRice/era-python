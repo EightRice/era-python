{
  "nbformat": 4,
  "nbformat_minor": 0,
  "metadata": {
    "colab": {
      "name": "EOSIO-ERA.ipynb",
      "provenance": [],
      "collapsed_sections": []
    },
    "kernelspec": {
      "name": "python3",
      "display_name": "Python 3"
    }
  },
  "cells": [
    {
      "cell_type": "markdown",
      "metadata": {
        "id": "ndIVG4x9-YaU"
      },
      "source": [
        "#EOSIO Electorate Research App#\n",
        "Andreu Taranu\n",
        "<br>admin@autonet.ai\n",
        "\n",
        "\n",
        "\n"
      ]
    },
    {
      "cell_type": "markdown",
      "metadata": {
        "id": "54tjKxHygzpc"
      },
      "source": [
        "# [Watch the video walkthrough](https://www.youtube.com/watch?v=fOh5pUpwkMM)"
      ]
    },
    {
      "cell_type": "markdown",
      "metadata": {
        "id": "n-samz15hGyw"
      },
      "source": [
        ""
      ]
    },
    {
      "cell_type": "markdown",
      "metadata": {
        "id": "gfkuX6wm-3pn"
      },
      "source": [
        "Install python client for calling the EOS API"
      ]
    },
    {
      "cell_type": "code",
      "metadata": {
        "id": "NoNAUCVH8arj",
        "outputId": "955bfcbb-604d-4e9c-fa14-75ab1081074c",
        "colab": {
          "base_uri": "https://localhost:8080/",
          "height": 537
        }
      },
      "source": [
        "!pip3 install git+https://github.com/eosnewyork/eospy.git"
      ],
      "execution_count": null,
      "outputs": [
        {
          "output_type": "stream",
          "text": [
            "Collecting git+https://github.com/eosnewyork/eospy.git\n",
            "  Cloning https://github.com/eosnewyork/eospy.git to /tmp/pip-req-build-22ia4sp9\n",
            "  Running command git clone -q https://github.com/eosnewyork/eospy.git /tmp/pip-req-build-22ia4sp9\n",
            "Requirement already satisfied: requests in /usr/local/lib/python3.6/dist-packages (from libeospy==2.0.1) (2.23.0)\n",
            "Collecting base58>=1.0.3\n",
            "  Downloading https://files.pythonhosted.org/packages/3c/03/58572025c77b9e6027155b272a1b96298e711cd4f95c24967f7137ab0c4b/base58-2.0.1-py3-none-any.whl\n",
            "Collecting ecdsa\n",
            "\u001b[?25l  Downloading https://files.pythonhosted.org/packages/b8/11/4b4d30e4746584684c758d8f1ddc1fa5ab1470b6bf70bce4d9b235965e99/ecdsa-0.15-py2.py3-none-any.whl (100kB)\n",
            "\u001b[K     |████████████████████████████████| 102kB 2.2MB/s \n",
            "\u001b[?25hCollecting colander\n",
            "\u001b[?25l  Downloading https://files.pythonhosted.org/packages/d3/44/ce2754165e420f1ccbeaece86a0d2b7b8f5a0c8f99ebd90c9c438a8eaa72/colander-1.7.0-py2.py3-none-any.whl (113kB)\n",
            "\u001b[K     |████████████████████████████████| 122kB 10.7MB/s \n",
            "\u001b[?25hRequirement already satisfied: pytz in /usr/local/lib/python3.6/dist-packages (from libeospy==2.0.1) (2018.9)\n",
            "Requirement already satisfied: six in /usr/local/lib/python3.6/dist-packages (from libeospy==2.0.1) (1.12.0)\n",
            "Requirement already satisfied: pyyaml in /usr/local/lib/python3.6/dist-packages (from libeospy==2.0.1) (3.13)\n",
            "Requirement already satisfied: chardet<4,>=3.0.2 in /usr/local/lib/python3.6/dist-packages (from requests->libeospy==2.0.1) (3.0.4)\n",
            "Requirement already satisfied: certifi>=2017.4.17 in /usr/local/lib/python3.6/dist-packages (from requests->libeospy==2.0.1) (2020.6.20)\n",
            "Requirement already satisfied: idna<3,>=2.5 in /usr/local/lib/python3.6/dist-packages (from requests->libeospy==2.0.1) (2.9)\n",
            "Requirement already satisfied: urllib3!=1.25.0,!=1.25.1,<1.26,>=1.21.1 in /usr/local/lib/python3.6/dist-packages (from requests->libeospy==2.0.1) (1.24.3)\n",
            "Collecting iso8601\n",
            "  Downloading https://files.pythonhosted.org/packages/ef/57/7162609dab394d38bbc7077b7ba0a6f10fb09d8b7701ea56fa1edc0c4345/iso8601-0.1.12-py2.py3-none-any.whl\n",
            "Collecting translationstring\n",
            "  Downloading https://files.pythonhosted.org/packages/3b/98/36187601a15e3d37e9bfcf0e0e1055532b39d044353b06861c3a519737a9/translationstring-1.4-py2.py3-none-any.whl\n",
            "Building wheels for collected packages: libeospy\n",
            "  Building wheel for libeospy (setup.py) ... \u001b[?25l\u001b[?25hdone\n",
            "  Created wheel for libeospy: filename=libeospy-2.0.1-cp36-none-any.whl size=26858 sha256=5abedfc8ac3938c09ab4ab0137ac61fc670d70398e57fe145f8232b1d5f3a946\n",
            "  Stored in directory: /tmp/pip-ephem-wheel-cache-zq12ffat/wheels/e2/f6/17/54de032a395dd59c5af8367523c307d463880df8bbd8331f10\n",
            "Successfully built libeospy\n",
            "Installing collected packages: base58, ecdsa, iso8601, translationstring, colander, libeospy\n",
            "Successfully installed base58-2.0.1 colander-1.7.0 ecdsa-0.15 iso8601-0.1.12 libeospy-2.0.1 translationstring-1.4\n"
          ],
          "name": "stdout"
        }
      ]
    },
    {
      "cell_type": "code",
      "metadata": {
        "id": "N7Ks0tqw8aft"
      },
      "source": [
        "from eospy import cleos\n",
        "import pandas as pd\n",
        "api=cleos.Cleos(url=\"http://bp.cryptolions.io\")"
      ],
      "execution_count": null,
      "outputs": []
    },
    {
      "cell_type": "code",
      "metadata": {
        "id": "GPdvf2BP8aNs",
        "outputId": "3c8f5a0f-a5ba-4fe5-8f2a-58b3726472c9",
        "colab": {
          "base_uri": "https://localhost:8080/",
          "height": 35
        }
      },
      "source": [
        "m=api.get_producers(limit=100)\n",
        "m['total_producer_vote_weight']"
      ],
      "execution_count": null,
      "outputs": [
        {
          "output_type": "execute_result",
          "data": {
            "application/vnd.google.colaboratory.intrinsic": {
              "type": "string"
            },
            "text/plain": [
              "'186033584670054088704.00000000000000000'"
            ]
          },
          "metadata": {
            "tags": []
          },
          "execution_count": 29
        }
      ]
    },
    {
      "cell_type": "code",
      "metadata": {
        "id": "1UxC_E_z81Ak"
      },
      "source": [
        "prods=pd.DataFrame(columns=[\"account\",\"eos\",\"url\",\"location\",\"nodes\"])"
      ],
      "execution_count": null,
      "outputs": []
    },
    {
      "cell_type": "code",
      "metadata": {
        "id": "M2h9wvdz83Rl"
      },
      "source": [
        "#fill in dataframe\n",
        "from requests import get\n",
        "import json\n",
        "for i in range (100):\n",
        "  account=m['rows'][i]['owner']\n",
        "  eos=m['rows'][i]['total_votes']\n",
        "  url=m['rows'][i]['url']\n",
        "  #each producer has a json file with additional info\n",
        "  try:\n",
        "      nse=get(url+\"/bp.json\")\n",
        "    geison=json.loads(response.text)\n",
        "    nodes=len(geison['nodes'])\n",
        "    location=geison['org']['location']['country']\n",
        "    prods.loc[i]={\"account\":account,\"eos\":eos,\"url\":url,\"location\":location,\"nodes\":nodes}\n",
        "    print(prods.loc[i])\n",
        "  except:\n",
        "    prods.loc[i]={\"account\":account,\"eos\":eos,\"url\":url,\"location\":0,\"nodes\":1}"
      ],
      "execution_count": null,
      "outputs": []
    },
    {
      "cell_type": "code",
      "metadata": {
        "id": "FVL_BUv_Eyiy",
        "outputId": "9a8f84a5-3f07-461e-af1b-2d031257f5ee",
        "colab": {
          "base_uri": "https://localhost:8080/",
          "height": 202
        }
      },
      "source": [
        "prods.head()"
      ],
      "execution_count": null,
      "outputs": [
        {
          "output_type": "execute_result",
          "data": {
            "text/html": [
              "<div>\n",
              "<style scoped>\n",
              "    .dataframe tbody tr th:only-of-type {\n",
              "        vertical-align: middle;\n",
              "    }\n",
              "\n",
              "    .dataframe tbody tr th {\n",
              "        vertical-align: top;\n",
              "    }\n",
              "\n",
              "    .dataframe thead th {\n",
              "        text-align: right;\n",
              "    }\n",
              "</style>\n",
              "<table border=\"1\" class=\"dataframe\">\n",
              "  <thead>\n",
              "    <tr style=\"text-align: right;\">\n",
              "      <th></th>\n",
              "      <th>account</th>\n",
              "      <th>eos</th>\n",
              "      <th>url</th>\n",
              "      <th>location</th>\n",
              "      <th>nodes</th>\n",
              "    </tr>\n",
              "  </thead>\n",
              "  <tbody>\n",
              "    <tr>\n",
              "      <th>0</th>\n",
              "      <td>eosnationftw</td>\n",
              "      <td>5061130129338967040.00000000000000000</td>\n",
              "      <td>https://eosnation.io</td>\n",
              "      <td>CA</td>\n",
              "      <td>3</td>\n",
              "    </tr>\n",
              "    <tr>\n",
              "      <th>1</th>\n",
              "      <td>eoseouldotio</td>\n",
              "      <td>5028257910704562176.00000000000000000</td>\n",
              "      <td>https://www.eoseoul.io</td>\n",
              "      <td>KR</td>\n",
              "      <td>3</td>\n",
              "    </tr>\n",
              "    <tr>\n",
              "      <th>2</th>\n",
              "      <td>big.one</td>\n",
              "      <td>5024964070451013632.00000000000000000</td>\n",
              "      <td>https://eos.big.one</td>\n",
              "      <td>CN</td>\n",
              "      <td>1</td>\n",
              "    </tr>\n",
              "    <tr>\n",
              "      <th>3</th>\n",
              "      <td>eosdotwikibp</td>\n",
              "      <td>4975230937084326912.00000000000000000</td>\n",
              "      <td>https://eos.wiki</td>\n",
              "      <td>KY</td>\n",
              "      <td>3</td>\n",
              "    </tr>\n",
              "    <tr>\n",
              "      <th>4</th>\n",
              "      <td>okcapitalbp1</td>\n",
              "      <td>4967877151581706240.00000000000000000</td>\n",
              "      <td>https://www.okex.com/eosbp/</td>\n",
              "      <td>CN</td>\n",
              "      <td>3</td>\n",
              "    </tr>\n",
              "  </tbody>\n",
              "</table>\n",
              "</div>"
            ],
            "text/plain": [
              "        account                                    eos  ... location nodes\n",
              "0  eosnationftw  5061130129338967040.00000000000000000  ...       CA     3\n",
              "1  eoseouldotio  5028257910704562176.00000000000000000  ...       KR     3\n",
              "2       big.one  5024964070451013632.00000000000000000  ...       CN     1\n",
              "3  eosdotwikibp  4975230937084326912.00000000000000000  ...       KY     3\n",
              "4  okcapitalbp1  4967877151581706240.00000000000000000  ...       CN     3\n",
              "\n",
              "[5 rows x 5 columns]"
            ]
          },
          "metadata": {
            "tags": []
          },
          "execution_count": 33
        }
      ]
    },
    {
      "cell_type": "markdown",
      "metadata": {
        "id": "4pmJFSjI9GPJ"
      },
      "source": [
        "Add relevant categories to dataframe"
      ]
    },
    {
      "cell_type": "code",
      "metadata": {
        "id": "4MEJAkuZ8-Ir"
      },
      "source": [
        "cats=[\"jurisdiction\",\"team\",\"content volume\",\"followers\",\"crypto-activism\",\"community\",\"developer\",\"cores\",\"ram\",\"storage\",\"green\",\"staking\"]\n",
        "for cat in newcats:\n",
        "  prods[cat]=prods['nodes'].mul(0)"
      ],
      "execution_count": null,
      "outputs": []
    },
    {
      "cell_type": "markdown",
      "metadata": {
        "id": "NTd4x_oz9UT-"
      },
      "source": [
        "Export to a file and fill in the chart with appropriate values"
      ]
    },
    {
      "cell_type": "code",
      "metadata": {
        "id": "aiicnxhq9BpU"
      },
      "source": [
        "prods.to_csv(\"prods.csv\")"
      ],
      "execution_count": null,
      "outputs": []
    },
    {
      "cell_type": "markdown",
      "metadata": {
        "id": "0EcLcCX_9iPy"
      },
      "source": [
        "Make a 'voters' DataFrame and call the API to get the rows. Each row will have a name (owner), a staked amount (eos) and an array of chosen candidates (producers)."
      ]
    },
    {
      "cell_type": "code",
      "metadata": {
        "id": "K0aJiZvA9gwU"
      },
      "source": [
        "voters=pd.DataFrame(columns=[\"account\",'eos','producers'])\n",
        "lowerBound=''\n",
        "count=0\n",
        "while(lowerBound[0:6]!=\"zzzzzz\"):\n",
        "    v=api.get_table(table='voters',scope='eosio',code=\"eosio\", limit=35000,lower_bound=lowerBound)\n",
        "    for voter in v['rows']:\n",
        "        lowerBound=voter['owner']\n",
        "        if len(voter['producers'])>0:\n",
        "            count=count+1\n",
        "            account=voter['owner']\n",
        "            eos=voter['last_vote_weight']\n",
        "            producers=voter['producers']\n",
        "            voters.loc[count]={\"account\":account,\"eos\":eos,\"producers\":producers}\n",
        "            # print(account,\" is voting with \",eos, \" for \",producers)\n",
        "    print(\"Total voters \",count, \"lower bound= \",lowerBound)"
      ],
      "execution_count": null,
      "outputs": []
    },
    {
      "cell_type": "markdown",
      "metadata": {
        "id": "15tFX7Y5_7wV"
      },
      "source": [
        "Reimport the producers dataframe and fill the missing values with zero"
      ]
    },
    {
      "cell_type": "code",
      "metadata": {
        "id": "SzdEW1hM-I4X"
      },
      "source": [
        "prods=pd.read_csv(\"drive/My Drive/ERA/prods.csv\")\n",
        "prods.fillna(0, inplace=True)"
      ],
      "execution_count": null,
      "outputs": []
    },
    {
      "cell_type": "code",
      "metadata": {
        "id": "9baEoGPXAJXw"
      },
      "source": [
        "#normalize between 0 and 9\n",
        "def normalize(value,oldmax,oldmin):\n",
        "  return ((value-oldmin)*9)/(oldmax-oldmin)"
      ],
      "execution_count": null,
      "outputs": []
    },
    {
      "cell_type": "markdown",
      "metadata": {
        "id": "oZ2m9drzCImz"
      },
      "source": [
        "#Calculate individual voter preferences#\n",
        "For each voter, go through the list of the BPs that they voted for and add up the feature scores.<br>\n",
        "\n",
        "**Run as separate python file to enable multiprocess**"
      ]
    },
    {
      "cell_type": "code",
      "metadata": {
        "id": "ReoC0OxHWtRg"
      },
      "source": [
        "from multiprocessing import Process\n",
        "\n",
        "prods=pd.read_csv('prods.csv')\n",
        "prods.fillna(0,inplace=True)\n",
        "voters=pd.read_csv('voters')\n",
        "for cat in cats:\n",
        "  voters[cat]=voters['eos'].mul(0)\n",
        "\n",
        "def add_prefs(start,voterz):\n",
        "    for i in range(start,start+863):\n",
        "        voterz.at[i,\"account\"]=voters.at[i,\"account\"]\n",
        "        voterz.at[i,\"eos\"]=voters.at[i,\"eos\"]\n",
        "        voterz.at[i,\"producers\"]=voters.at[i,\"producers\"]\n",
        "        for cat in cats:\n",
        "            category=0\n",
        "            for prod in voters.loc[i]['producers'].split(\"'\")[1::2]:\n",
        "                if prod in prods.values:\n",
        "                    category=category+int(prods[prods['account']==prod][cat].array[0])   \n",
        "            voterz.at[i,cat]=category\n",
        "        if i%25==0:\n",
        "            print (voterz.loc[i])\n",
        "    voterz.to_csv(\"voterz\"+str(start)+\".csv\")\n",
        "\n",
        "if __name__ == '__main__':\n",
        "    print(\"program started\")\n",
        "    procs=[]\n",
        "    counter=0\n",
        "    voterz=pd.DataFrame(columns=voters.columns.values)\n",
        "    for i in range(50):\n",
        "        procs.append(Process(target=add_prefs, args=(counter,voterz)))\n",
        "        counter=counter+863\n",
        "    for proc in procs:\n",
        "        proc.start()\n",
        "    for proc in procs:\n",
        "        proc.join()\n",
        "    frames=[]\n",
        "    m=0\n",
        "    for i in range(50):\n",
        "        frames.append(pd.read_csv(\"voterz\"+str(m)+\".csv\"))\n",
        "        m=m+863\n",
        "    voterz=pd.concat(frames)\n",
        "    voterz.to_csv(\"voterz.csv\")\n",
        "    print(\"program end\")"
      ],
      "execution_count": null,
      "outputs": []
    },
    {
      "cell_type": "code",
      "metadata": {
        "id": "vrOSYG0yXaJt",
        "outputId": "6ae1bbcb-5174-4391-cf46-9d5b63a8a96c",
        "colab": {
          "base_uri": "https://localhost:8080/",
          "height": 378
        }
      },
      "source": [
        "voters.head()"
      ],
      "execution_count": null,
      "outputs": [
        {
          "output_type": "execute_result",
          "data": {
            "text/html": [
              "<div>\n",
              "<style scoped>\n",
              "    .dataframe tbody tr th:only-of-type {\n",
              "        vertical-align: middle;\n",
              "    }\n",
              "\n",
              "    .dataframe tbody tr th {\n",
              "        vertical-align: top;\n",
              "    }\n",
              "\n",
              "    .dataframe thead th {\n",
              "        text-align: right;\n",
              "    }\n",
              "</style>\n",
              "<table border=\"1\" class=\"dataframe\">\n",
              "  <thead>\n",
              "    <tr style=\"text-align: right;\">\n",
              "      <th></th>\n",
              "      <th>Unnamed: 0</th>\n",
              "      <th>Unnamed: 0.1</th>\n",
              "      <th>Unnamed: 0.1.1</th>\n",
              "      <th>account</th>\n",
              "      <th>eos</th>\n",
              "      <th>producers</th>\n",
              "      <th>jurisdiction</th>\n",
              "      <th>team</th>\n",
              "      <th>content volume</th>\n",
              "      <th>followers</th>\n",
              "      <th>crypto-activism</th>\n",
              "      <th>community</th>\n",
              "      <th>developer</th>\n",
              "      <th>cores</th>\n",
              "      <th>ram</th>\n",
              "      <th>storage</th>\n",
              "      <th>green</th>\n",
              "      <th>staking</th>\n",
              "    </tr>\n",
              "  </thead>\n",
              "  <tbody>\n",
              "    <tr>\n",
              "      <th>0</th>\n",
              "      <td>0</td>\n",
              "      <td>0</td>\n",
              "      <td>NaN</td>\n",
              "      <td>...........n</td>\n",
              "      <td>1.048576e+06</td>\n",
              "      <td>['bitfinexeos1']</td>\n",
              "      <td>3</td>\n",
              "      <td>0</td>\n",
              "      <td>3</td>\n",
              "      <td>1249</td>\n",
              "      <td>0</td>\n",
              "      <td>4</td>\n",
              "      <td>0</td>\n",
              "      <td>96</td>\n",
              "      <td>1500</td>\n",
              "      <td>2000</td>\n",
              "      <td>1</td>\n",
              "      <td>1</td>\n",
              "    </tr>\n",
              "    <tr>\n",
              "      <th>1</th>\n",
              "      <td>1</td>\n",
              "      <td>1</td>\n",
              "      <td>NaN</td>\n",
              "      <td>111111111132</td>\n",
              "      <td>0.000000e+00</td>\n",
              "      <td>['alohaeosprod', 'aus1genereos', 'blockmatrix1...</td>\n",
              "      <td>46</td>\n",
              "      <td>36</td>\n",
              "      <td>89</td>\n",
              "      <td>34062</td>\n",
              "      <td>2</td>\n",
              "      <td>47</td>\n",
              "      <td>25</td>\n",
              "      <td>222</td>\n",
              "      <td>3000</td>\n",
              "      <td>103152</td>\n",
              "      <td>3</td>\n",
              "      <td>2</td>\n",
              "    </tr>\n",
              "    <tr>\n",
              "      <th>2</th>\n",
              "      <td>2</td>\n",
              "      <td>2</td>\n",
              "      <td>NaN</td>\n",
              "      <td>111111111133</td>\n",
              "      <td>6.211353e+10</td>\n",
              "      <td>['eosasia11111', 'eosauthority', 'eosbeijingbp...</td>\n",
              "      <td>12</td>\n",
              "      <td>14</td>\n",
              "      <td>14</td>\n",
              "      <td>8705</td>\n",
              "      <td>4</td>\n",
              "      <td>9</td>\n",
              "      <td>5</td>\n",
              "      <td>276</td>\n",
              "      <td>1400</td>\n",
              "      <td>84100</td>\n",
              "      <td>1</td>\n",
              "      <td>1</td>\n",
              "    </tr>\n",
              "    <tr>\n",
              "      <th>3</th>\n",
              "      <td>3</td>\n",
              "      <td>3</td>\n",
              "      <td>NaN</td>\n",
              "      <td>111111111134</td>\n",
              "      <td>0.000000e+00</td>\n",
              "      <td>['aus1genereos', 'blockchained', 'blocksmithio...</td>\n",
              "      <td>37</td>\n",
              "      <td>17</td>\n",
              "      <td>77</td>\n",
              "      <td>48829</td>\n",
              "      <td>0</td>\n",
              "      <td>36</td>\n",
              "      <td>21</td>\n",
              "      <td>222</td>\n",
              "      <td>2680</td>\n",
              "      <td>103152</td>\n",
              "      <td>2</td>\n",
              "      <td>2</td>\n",
              "    </tr>\n",
              "    <tr>\n",
              "      <th>4</th>\n",
              "      <td>4</td>\n",
              "      <td>4</td>\n",
              "      <td>NaN</td>\n",
              "      <td>111111111152</td>\n",
              "      <td>0.000000e+00</td>\n",
              "      <td>['aus1genereos', 'blockchained', 'btccpooleos1...</td>\n",
              "      <td>37</td>\n",
              "      <td>25</td>\n",
              "      <td>40</td>\n",
              "      <td>49751</td>\n",
              "      <td>9</td>\n",
              "      <td>46</td>\n",
              "      <td>17</td>\n",
              "      <td>184</td>\n",
              "      <td>6224</td>\n",
              "      <td>112540</td>\n",
              "      <td>2</td>\n",
              "      <td>2</td>\n",
              "    </tr>\n",
              "  </tbody>\n",
              "</table>\n",
              "</div>"
            ],
            "text/plain": [
              "   Unnamed: 0  Unnamed: 0.1  Unnamed: 0.1.1  ... storage  green staking\n",
              "0           0             0             NaN  ...    2000      1       1\n",
              "1           1             1             NaN  ...  103152      3       2\n",
              "2           2             2             NaN  ...   84100      1       1\n",
              "3           3             3             NaN  ...  103152      2       2\n",
              "4           4             4             NaN  ...  112540      2       2\n",
              "\n",
              "[5 rows x 18 columns]"
            ]
          },
          "metadata": {
            "tags": []
          },
          "execution_count": 6
        }
      ]
    },
    {
      "cell_type": "markdown",
      "metadata": {
        "id": "KUViQFnzFEBY"
      },
      "source": [
        "Get preferences for the entire electorate"
      ]
    },
    {
      "cell_type": "code",
      "metadata": {
        "id": "5ccTfd38Xp35"
      },
      "source": [
        "prefs={}\n",
        "for cat in cats:\n",
        "  prefs[cat]=normalize(voters[cat].mean(),voters[cat].max(),voters[cat].min())\n",
        "for cat in cats:\n",
        "    wcat=\"w\"+cat\n",
        "    voters[wcat]=voters['eos'].mul(0)"
      ],
      "execution_count": null,
      "outputs": []
    },
    {
      "cell_type": "markdown",
      "metadata": {
        "id": "d2K4nFjtFNgj"
      },
      "source": [
        "Calculate weighted preferences for the entire electorate"
      ]
    },
    {
      "cell_type": "code",
      "metadata": {
        "id": "VIfezfozFMOm"
      },
      "source": [
        "#multiply voter preferences by the amount staked on the vote\n",
        "for i in range(voters.shape[0]):\n",
        "    for cat in cats:\n",
        "        voters.at[i,\"w\"+cat]=voters.at[i,cat]*voters.at[i,\"eos\"]\n",
        "    if i%1000==0:\n",
        "        print(\"i is: \",i)\n",
        "wprefs={}\n",
        "for cat in cats:\n",
        "  wprefs[\"w\"+cat]=normalize(voters[\"w\"+cat].mean(),voters[\"w\"+cat].max(),voters[\"w\"+cat].min())*900"
      ],
      "execution_count": null,
      "outputs": []
    },
    {
      "cell_type": "markdown",
      "metadata": {
        "id": "6eAf3Qq0Fx8u"
      },
      "source": [
        "Create the lists of values and labels to plot"
      ]
    },
    {
      "cell_type": "code",
      "metadata": {
        "id": "gXLHyFR5Fn5R"
      },
      "source": [
        "values=prefs.values()\n",
        "labes=prefs.keys()\n",
        "labes2=wprefs.keys()\n",
        "wvalues=wprefs.values()"
      ],
      "execution_count": null,
      "outputs": []
    },
    {
      "cell_type": "markdown",
      "metadata": {
        "id": "J7bKvC_GF48E"
      },
      "source": [
        "Plot the values on pie charts"
      ]
    },
    {
      "cell_type": "code",
      "metadata": {
        "id": "mRYkVquEYu35",
        "outputId": "1e0e23e2-c45a-4b54-d4e2-98ab61fa19b0",
        "colab": {
          "base_uri": "https://localhost:8080/",
          "height": 611
        }
      },
      "source": [
        "import matplotlib.pyplot as plt\n",
        "plt.subplot(1,2,1)\n",
        "plt.pie(values, labels=labes)\n",
        "plt.title=\"Voter Preferences Unweighted\"\n",
        "circle=plt.Circle(xy=(0,0),radius=0.5,facecolor=\"#383838\")\n",
        "plt.gca().add_artist(circle)\n",
        "plt.subplot(1,2,2)\n",
        "plt.pie(wvalues, labels=labes2)\n",
        "plt.title=\"Voter Preferences Weighted\"\n",
        "plt.rcParams[\"figure.figsize\"] = [26,26]\n",
        "circle=plt.Circle(xy=(0,0),radius=0.5, facecolor=\"#383838\")\n",
        "plt.gca().add_artist(circle)\n",
        "plt.show()"
      ],
      "execution_count": null,
      "outputs": [
        {
          "output_type": "display_data",
          "data": {
            "image/png": "[encoded data removed]",
            "text/plain": [
              "<Figure size 1872x1872 with 2 Axes>"
            ]
          },
          "metadata": {
            "tags": []
          }
        }
      ]
    },
    {
      "cell_type": "markdown",
      "metadata": {
        "id": "FDLsPirLF89K"
      },
      "source": [
        "Function to get Enclidian distance in multi-dimentional space"
      ]
    },
    {
      "cell_type": "code",
      "metadata": {
        "id": "XI2TD2gybJg4"
      },
      "source": [
        "import math\n",
        "def getDistanceBetween(them,us):\n",
        "  total=0\n",
        "  for i in range(len(them)):\n",
        "    if them[i]-us[i]>0:\n",
        "      us[i]=them[i]\n",
        "    total+=(them[i]-us[i])**2\n",
        "  distance=abs(math.sqrt(total))\n",
        "  return distance"
      ],
      "execution_count": null,
      "outputs": []
    },
    {
      "cell_type": "markdown",
      "metadata": {
        "id": "SrVQpnO5GE-X"
      },
      "source": [
        "Function to estimate electorate reaction to any given configuration of features"
      ]
    },
    {
      "cell_type": "code",
      "metadata": {
        "id": "KPVWo7qKbtMV"
      },
      "source": [
        "def success (us,tolerance):\n",
        "  print (\"started\")\n",
        "  eos=0\n",
        "  thevoters=[]\n",
        "  for i in range (voters.shape[0]):\n",
        "    features=[]\n",
        "    for cat in cats:\n",
        "      features.append(voters.iloc[i][cat])\n",
        "    distance=getDistanceBetween(us,features)\n",
        "    if distance<tolerance:\n",
        "      thevoters.append(voters.iloc[i]['account'])\n",
        "      eos=eos+(voters.iloc[i]['eos']/len(voters.iloc[i]['producers'].split(\"'\")[1::2]))\n",
        "  return [eos,thevoters]"
      ],
      "execution_count": null,
      "outputs": []
    },
    {
      "cell_type": "markdown",
      "metadata": {
        "id": "tACLwuW9GWU3"
      },
      "source": [
        "##Run simulation##"
      ]
    },
    {
      "cell_type": "code",
      "metadata": {
        "id": "zN9QCMmcY-9A",
        "outputId": "6d35839a-e184-48db-96d9-f6fdc624d195",
        "colab": {
          "base_uri": "https://localhost:8080/",
          "height": 69
        }
      },
      "source": [
        "#@title Predict votes on feature set\n",
        "jurisdiction = 6 #@param {type:\"slider\", min:0, max:9, step:1}\n",
        "geodiv = 3 #@param{type:\"slider\",min:0,max:9,step:1}\n",
        "team = 7#@param{type:\"slider\",min:0,max:9,step:1}\n",
        "followers = 6 #@param{type:\"slider\",min:0,max:9,step:1}\n",
        "content = 6 #@param{type:\"slider\",min:0,max:9,step:1}\n",
        "developer = 8 #@param{type:\"slider\",min:0,max:9,step:1}\n",
        "activism = 3 #@param{type:\"slider\",min:0,max:9,step:1}\n",
        "cores=7 #@param {type:\"integer\"}\n",
        "ram=0 #@param{type:\"number\"}\n",
        "storage=0 #@param{type:\"number\"}\n",
        "staking=True #@param {type:\"boolean\"}\n",
        "green=True #@param {type:\"boolean\"}\n",
        "\n",
        "result=success([jurisdiction,geodiv,team,followers,developer,content,activism,\n",
        "                cores,ram,storage,staking,green],2)\n",
        "print (\"got \",result[0],\" from \",len(result[1]),\" votes.\")\n",
        "\n",
        "for i in range(prods.shape[0]):\n",
        "  if result[0]>prods.at[i,'eos']:\n",
        "    print (\"Rank: \",i)\n",
        "    break\n",
        "  if result[0]<prods.at[99,\"eos\"]:\n",
        "    print(\"Not in top 100\")"
      ],
      "execution_count": null,
      "outputs": [
        {
          "output_type": "stream",
          "text": [
            "started\n",
            "got  3.645348619389351e+16  from  14883  votes.\n",
            "Rank:  82\n"
          ],
          "name": "stdout"
        }
      ]
    },
    {
      "cell_type": "markdown",
      "metadata": {
        "id": "pODLb5Q5OAAA"
      },
      "source": [
        "Webapp with the same functionality available [here](http://3.21.64.250/).\n",
        "To get access to all tabs hit F7 and input \"password\".\n"
      ]
    }
  ]
}